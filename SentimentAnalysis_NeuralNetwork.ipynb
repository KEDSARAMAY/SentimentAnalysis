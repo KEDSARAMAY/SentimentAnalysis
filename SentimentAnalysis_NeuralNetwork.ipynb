{
  "nbformat": 4,
  "nbformat_minor": 0,
  "metadata": {
    "colab": {
      "name": "SentimentAnalysis_NeuralNetwork.ipynb",
      "provenance": [],
      "collapsed_sections": [],
      "machine_shape": "hm"
    },
    "kernelspec": {
      "name": "python3",
      "display_name": "Python 3"
    }
  },
  "cells": [
    {
      "cell_type": "markdown",
      "metadata": {
        "id": "kDBCAQwLSsXE",
        "colab_type": "text"
      },
      "source": [
        "#Import"
      ]
    },
    {
      "cell_type": "code",
      "metadata": {
        "id": "whTNzty-fFTW",
        "colab_type": "code",
        "colab": {}
      },
      "source": [
        "from keras.layers.wrappers import Bidirectional"
      ],
      "execution_count": 1,
      "outputs": []
    },
    {
      "cell_type": "code",
      "metadata": {
        "id": "7vH_B55ooAz4",
        "colab_type": "code",
        "colab": {}
      },
      "source": [
        "import tensorflow as tf"
      ],
      "execution_count": 2,
      "outputs": []
    },
    {
      "cell_type": "code",
      "metadata": {
        "id": "la6HCGxkAhD0",
        "colab_type": "code",
        "colab": {}
      },
      "source": [
        "import pandas as pd\n",
        "import numpy as np\n",
        "from sklearn.metrics import classification_report, confusion_matrix\n",
        "from IPython.display import Image, display_png\n",
        "from gensim.models import word2vec, KeyedVectors\n",
        "from keras.models import Sequential\n",
        "from keras.layers import Input, Embedding, Dense, Dropout, Flatten, LSTM,Bidirectional,GlobalAveragePooling1D\n",
        "from keras.utils import to_categorical, plot_model\n",
        "from keras.preprocessing.sequence import pad_sequences\n",
        "from keras.optimizers import RMSprop\n",
        "import matplotlib.pyplot as plt\n",
        "plt.style.use('ggplot')"
      ],
      "execution_count": 3,
      "outputs": []
    },
    {
      "cell_type": "code",
      "metadata": {
        "id": "0v0_se-r6dms",
        "colab_type": "code",
        "colab": {
          "base_uri": "https://localhost:8080/",
          "height": 1000
        },
        "outputId": "2cdc720c-b281-4bac-cc6d-6af1267fbb0d"
      },
      "source": [
        "!pip install contractions\n",
        "import pandas as pd\n",
        "import contractions\n",
        "import nltk\n",
        "from nltk.tokenize import word_tokenize\n",
        "nltk.download('all')\n",
        "import spacy\n",
        "nlp = spacy.load(\"en_core_web_sm\")"
      ],
      "execution_count": 4,
      "outputs": [
        {
          "output_type": "stream",
          "text": [
            "Collecting contractions\n",
            "  Downloading https://files.pythonhosted.org/packages/00/92/a05b76a692ac08d470ae5c23873cf1c9a041532f1ee065e74b374f218306/contractions-0.0.25-py2.py3-none-any.whl\n",
            "Collecting textsearch\n",
            "  Downloading https://files.pythonhosted.org/packages/42/a8/03407021f9555043de5492a2bd7a35c56cc03c2510092b5ec018cae1bbf1/textsearch-0.0.17-py2.py3-none-any.whl\n",
            "Collecting pyahocorasick\n",
            "\u001b[?25l  Downloading https://files.pythonhosted.org/packages/f4/9f/f0d8e8850e12829eea2e778f1c90e3c53a9a799b7f412082a5d21cd19ae1/pyahocorasick-1.4.0.tar.gz (312kB)\n",
            "\u001b[K     |████████████████████████████████| 317kB 4.2MB/s \n",
            "\u001b[?25hCollecting Unidecode\n",
            "\u001b[?25l  Downloading https://files.pythonhosted.org/packages/d0/42/d9edfed04228bacea2d824904cae367ee9efd05e6cce7ceaaedd0b0ad964/Unidecode-1.1.1-py2.py3-none-any.whl (238kB)\n",
            "\u001b[K     |████████████████████████████████| 245kB 38.1MB/s \n",
            "\u001b[?25hBuilding wheels for collected packages: pyahocorasick\n",
            "  Building wheel for pyahocorasick (setup.py) ... \u001b[?25l\u001b[?25hdone\n",
            "  Created wheel for pyahocorasick: filename=pyahocorasick-1.4.0-cp36-cp36m-linux_x86_64.whl size=81698 sha256=1671e317564a181d9d088dee5dfb8ec8172ca1b9377757a9337d118e26e91bfd\n",
            "  Stored in directory: /root/.cache/pip/wheels/0a/90/61/87a55f5b459792fbb2b7ba6b31721b06ff5cf6bde541b40994\n",
            "Successfully built pyahocorasick\n",
            "Installing collected packages: pyahocorasick, Unidecode, textsearch, contractions\n",
            "Successfully installed Unidecode-1.1.1 contractions-0.0.25 pyahocorasick-1.4.0 textsearch-0.0.17\n",
            "[nltk_data] Downloading collection 'all'\n",
            "[nltk_data]    | \n",
            "[nltk_data]    | Downloading package abc to /root/nltk_data...\n",
            "[nltk_data]    |   Unzipping corpora/abc.zip.\n",
            "[nltk_data]    | Downloading package alpino to /root/nltk_data...\n",
            "[nltk_data]    |   Unzipping corpora/alpino.zip.\n",
            "[nltk_data]    | Downloading package biocreative_ppi to\n",
            "[nltk_data]    |     /root/nltk_data...\n",
            "[nltk_data]    |   Unzipping corpora/biocreative_ppi.zip.\n",
            "[nltk_data]    | Downloading package brown to /root/nltk_data...\n",
            "[nltk_data]    |   Unzipping corpora/brown.zip.\n",
            "[nltk_data]    | Downloading package brown_tei to /root/nltk_data...\n",
            "[nltk_data]    |   Unzipping corpora/brown_tei.zip.\n",
            "[nltk_data]    | Downloading package cess_cat to /root/nltk_data...\n",
            "[nltk_data]    |   Unzipping corpora/cess_cat.zip.\n",
            "[nltk_data]    | Downloading package cess_esp to /root/nltk_data...\n",
            "[nltk_data]    |   Unzipping corpora/cess_esp.zip.\n",
            "[nltk_data]    | Downloading package chat80 to /root/nltk_data...\n",
            "[nltk_data]    |   Unzipping corpora/chat80.zip.\n",
            "[nltk_data]    | Downloading package city_database to\n",
            "[nltk_data]    |     /root/nltk_data...\n",
            "[nltk_data]    |   Unzipping corpora/city_database.zip.\n",
            "[nltk_data]    | Downloading package cmudict to /root/nltk_data...\n",
            "[nltk_data]    |   Unzipping corpora/cmudict.zip.\n",
            "[nltk_data]    | Downloading package comparative_sentences to\n",
            "[nltk_data]    |     /root/nltk_data...\n",
            "[nltk_data]    |   Unzipping corpora/comparative_sentences.zip.\n",
            "[nltk_data]    | Downloading package comtrans to /root/nltk_data...\n",
            "[nltk_data]    | Downloading package conll2000 to /root/nltk_data...\n",
            "[nltk_data]    |   Unzipping corpora/conll2000.zip.\n",
            "[nltk_data]    | Downloading package conll2002 to /root/nltk_data...\n",
            "[nltk_data]    |   Unzipping corpora/conll2002.zip.\n",
            "[nltk_data]    | Downloading package conll2007 to /root/nltk_data...\n",
            "[nltk_data]    | Downloading package crubadan to /root/nltk_data...\n",
            "[nltk_data]    |   Unzipping corpora/crubadan.zip.\n",
            "[nltk_data]    | Downloading package dependency_treebank to\n",
            "[nltk_data]    |     /root/nltk_data...\n",
            "[nltk_data]    |   Unzipping corpora/dependency_treebank.zip.\n",
            "[nltk_data]    | Downloading package dolch to /root/nltk_data...\n",
            "[nltk_data]    |   Unzipping corpora/dolch.zip.\n",
            "[nltk_data]    | Downloading package europarl_raw to\n",
            "[nltk_data]    |     /root/nltk_data...\n",
            "[nltk_data]    |   Unzipping corpora/europarl_raw.zip.\n",
            "[nltk_data]    | Downloading package floresta to /root/nltk_data...\n",
            "[nltk_data]    |   Unzipping corpora/floresta.zip.\n",
            "[nltk_data]    | Downloading package framenet_v15 to\n",
            "[nltk_data]    |     /root/nltk_data...\n",
            "[nltk_data]    |   Unzipping corpora/framenet_v15.zip.\n",
            "[nltk_data]    | Downloading package framenet_v17 to\n",
            "[nltk_data]    |     /root/nltk_data...\n",
            "[nltk_data]    |   Unzipping corpora/framenet_v17.zip.\n",
            "[nltk_data]    | Downloading package gazetteers to /root/nltk_data...\n",
            "[nltk_data]    |   Unzipping corpora/gazetteers.zip.\n",
            "[nltk_data]    | Downloading package genesis to /root/nltk_data...\n",
            "[nltk_data]    |   Unzipping corpora/genesis.zip.\n",
            "[nltk_data]    | Downloading package gutenberg to /root/nltk_data...\n",
            "[nltk_data]    |   Unzipping corpora/gutenberg.zip.\n",
            "[nltk_data]    | Downloading package ieer to /root/nltk_data...\n",
            "[nltk_data]    |   Unzipping corpora/ieer.zip.\n",
            "[nltk_data]    | Downloading package inaugural to /root/nltk_data...\n",
            "[nltk_data]    |   Unzipping corpora/inaugural.zip.\n",
            "[nltk_data]    | Downloading package indian to /root/nltk_data...\n",
            "[nltk_data]    |   Unzipping corpora/indian.zip.\n",
            "[nltk_data]    | Downloading package jeita to /root/nltk_data...\n",
            "[nltk_data]    | Downloading package kimmo to /root/nltk_data...\n",
            "[nltk_data]    |   Unzipping corpora/kimmo.zip.\n",
            "[nltk_data]    | Downloading package knbc to /root/nltk_data...\n",
            "[nltk_data]    | Downloading package lin_thesaurus to\n",
            "[nltk_data]    |     /root/nltk_data...\n",
            "[nltk_data]    |   Unzipping corpora/lin_thesaurus.zip.\n",
            "[nltk_data]    | Downloading package mac_morpho to /root/nltk_data...\n",
            "[nltk_data]    |   Unzipping corpora/mac_morpho.zip.\n",
            "[nltk_data]    | Downloading package machado to /root/nltk_data...\n",
            "[nltk_data]    | Downloading package masc_tagged to /root/nltk_data...\n",
            "[nltk_data]    | Downloading package moses_sample to\n",
            "[nltk_data]    |     /root/nltk_data...\n",
            "[nltk_data]    |   Unzipping models/moses_sample.zip.\n",
            "[nltk_data]    | Downloading package movie_reviews to\n",
            "[nltk_data]    |     /root/nltk_data...\n",
            "[nltk_data]    |   Unzipping corpora/movie_reviews.zip.\n",
            "[nltk_data]    | Downloading package names to /root/nltk_data...\n",
            "[nltk_data]    |   Unzipping corpora/names.zip.\n",
            "[nltk_data]    | Downloading package nombank.1.0 to /root/nltk_data...\n",
            "[nltk_data]    | Downloading package nps_chat to /root/nltk_data...\n",
            "[nltk_data]    |   Unzipping corpora/nps_chat.zip.\n",
            "[nltk_data]    | Downloading package omw to /root/nltk_data...\n",
            "[nltk_data]    |   Unzipping corpora/omw.zip.\n",
            "[nltk_data]    | Downloading package opinion_lexicon to\n",
            "[nltk_data]    |     /root/nltk_data...\n",
            "[nltk_data]    |   Unzipping corpora/opinion_lexicon.zip.\n",
            "[nltk_data]    | Downloading package paradigms to /root/nltk_data...\n",
            "[nltk_data]    |   Unzipping corpora/paradigms.zip.\n",
            "[nltk_data]    | Downloading package pil to /root/nltk_data...\n",
            "[nltk_data]    |   Unzipping corpora/pil.zip.\n",
            "[nltk_data]    | Downloading package pl196x to /root/nltk_data...\n",
            "[nltk_data]    |   Unzipping corpora/pl196x.zip.\n",
            "[nltk_data]    | Downloading package ppattach to /root/nltk_data...\n",
            "[nltk_data]    |   Unzipping corpora/ppattach.zip.\n",
            "[nltk_data]    | Downloading package problem_reports to\n",
            "[nltk_data]    |     /root/nltk_data...\n",
            "[nltk_data]    |   Unzipping corpora/problem_reports.zip.\n",
            "[nltk_data]    | Downloading package propbank to /root/nltk_data...\n",
            "[nltk_data]    | Downloading package ptb to /root/nltk_data...\n",
            "[nltk_data]    |   Unzipping corpora/ptb.zip.\n",
            "[nltk_data]    | Downloading package product_reviews_1 to\n",
            "[nltk_data]    |     /root/nltk_data...\n",
            "[nltk_data]    |   Unzipping corpora/product_reviews_1.zip.\n",
            "[nltk_data]    | Downloading package product_reviews_2 to\n",
            "[nltk_data]    |     /root/nltk_data...\n",
            "[nltk_data]    |   Unzipping corpora/product_reviews_2.zip.\n",
            "[nltk_data]    | Downloading package pros_cons to /root/nltk_data...\n",
            "[nltk_data]    |   Unzipping corpora/pros_cons.zip.\n",
            "[nltk_data]    | Downloading package qc to /root/nltk_data...\n",
            "[nltk_data]    |   Unzipping corpora/qc.zip.\n",
            "[nltk_data]    | Downloading package reuters to /root/nltk_data...\n",
            "[nltk_data]    | Downloading package rte to /root/nltk_data...\n",
            "[nltk_data]    |   Unzipping corpora/rte.zip.\n",
            "[nltk_data]    | Downloading package semcor to /root/nltk_data...\n",
            "[nltk_data]    | Downloading package senseval to /root/nltk_data...\n",
            "[nltk_data]    |   Unzipping corpora/senseval.zip.\n",
            "[nltk_data]    | Downloading package sentiwordnet to\n",
            "[nltk_data]    |     /root/nltk_data...\n",
            "[nltk_data]    |   Unzipping corpora/sentiwordnet.zip.\n",
            "[nltk_data]    | Downloading package sentence_polarity to\n",
            "[nltk_data]    |     /root/nltk_data...\n",
            "[nltk_data]    |   Unzipping corpora/sentence_polarity.zip.\n",
            "[nltk_data]    | Downloading package shakespeare to /root/nltk_data...\n",
            "[nltk_data]    |   Unzipping corpora/shakespeare.zip.\n",
            "[nltk_data]    | Downloading package sinica_treebank to\n",
            "[nltk_data]    |     /root/nltk_data...\n",
            "[nltk_data]    |   Unzipping corpora/sinica_treebank.zip.\n",
            "[nltk_data]    | Downloading package smultron to /root/nltk_data...\n",
            "[nltk_data]    |   Unzipping corpora/smultron.zip.\n",
            "[nltk_data]    | Downloading package state_union to /root/nltk_data...\n",
            "[nltk_data]    |   Unzipping corpora/state_union.zip.\n",
            "[nltk_data]    | Downloading package stopwords to /root/nltk_data...\n",
            "[nltk_data]    |   Unzipping corpora/stopwords.zip.\n",
            "[nltk_data]    | Downloading package subjectivity to\n",
            "[nltk_data]    |     /root/nltk_data...\n",
            "[nltk_data]    |   Unzipping corpora/subjectivity.zip.\n",
            "[nltk_data]    | Downloading package swadesh to /root/nltk_data...\n",
            "[nltk_data]    |   Unzipping corpora/swadesh.zip.\n",
            "[nltk_data]    | Downloading package switchboard to /root/nltk_data...\n",
            "[nltk_data]    |   Unzipping corpora/switchboard.zip.\n",
            "[nltk_data]    | Downloading package timit to /root/nltk_data...\n",
            "[nltk_data]    |   Unzipping corpora/timit.zip.\n",
            "[nltk_data]    | Downloading package toolbox to /root/nltk_data...\n",
            "[nltk_data]    |   Unzipping corpora/toolbox.zip.\n",
            "[nltk_data]    | Downloading package treebank to /root/nltk_data...\n",
            "[nltk_data]    |   Unzipping corpora/treebank.zip.\n",
            "[nltk_data]    | Downloading package twitter_samples to\n",
            "[nltk_data]    |     /root/nltk_data...\n",
            "[nltk_data]    |   Unzipping corpora/twitter_samples.zip.\n",
            "[nltk_data]    | Downloading package udhr to /root/nltk_data...\n",
            "[nltk_data]    |   Unzipping corpora/udhr.zip.\n",
            "[nltk_data]    | Downloading package udhr2 to /root/nltk_data...\n",
            "[nltk_data]    |   Unzipping corpora/udhr2.zip.\n",
            "[nltk_data]    | Downloading package unicode_samples to\n",
            "[nltk_data]    |     /root/nltk_data...\n",
            "[nltk_data]    |   Unzipping corpora/unicode_samples.zip.\n",
            "[nltk_data]    | Downloading package universal_treebanks_v20 to\n",
            "[nltk_data]    |     /root/nltk_data...\n",
            "[nltk_data]    | Downloading package verbnet to /root/nltk_data...\n",
            "[nltk_data]    |   Unzipping corpora/verbnet.zip.\n",
            "[nltk_data]    | Downloading package verbnet3 to /root/nltk_data...\n",
            "[nltk_data]    |   Unzipping corpora/verbnet3.zip.\n",
            "[nltk_data]    | Downloading package webtext to /root/nltk_data...\n",
            "[nltk_data]    |   Unzipping corpora/webtext.zip.\n",
            "[nltk_data]    | Downloading package wordnet to /root/nltk_data...\n",
            "[nltk_data]    |   Unzipping corpora/wordnet.zip.\n",
            "[nltk_data]    | Downloading package wordnet_ic to /root/nltk_data...\n",
            "[nltk_data]    |   Unzipping corpora/wordnet_ic.zip.\n",
            "[nltk_data]    | Downloading package words to /root/nltk_data...\n",
            "[nltk_data]    |   Unzipping corpora/words.zip.\n",
            "[nltk_data]    | Downloading package ycoe to /root/nltk_data...\n",
            "[nltk_data]    |   Unzipping corpora/ycoe.zip.\n",
            "[nltk_data]    | Downloading package rslp to /root/nltk_data...\n",
            "[nltk_data]    |   Unzipping stemmers/rslp.zip.\n",
            "[nltk_data]    | Downloading package maxent_treebank_pos_tagger to\n",
            "[nltk_data]    |     /root/nltk_data...\n",
            "[nltk_data]    |   Unzipping taggers/maxent_treebank_pos_tagger.zip.\n",
            "[nltk_data]    | Downloading package universal_tagset to\n",
            "[nltk_data]    |     /root/nltk_data...\n",
            "[nltk_data]    |   Unzipping taggers/universal_tagset.zip.\n",
            "[nltk_data]    | Downloading package maxent_ne_chunker to\n",
            "[nltk_data]    |     /root/nltk_data...\n",
            "[nltk_data]    |   Unzipping chunkers/maxent_ne_chunker.zip.\n",
            "[nltk_data]    | Downloading package punkt to /root/nltk_data...\n",
            "[nltk_data]    |   Unzipping tokenizers/punkt.zip.\n",
            "[nltk_data]    | Downloading package book_grammars to\n",
            "[nltk_data]    |     /root/nltk_data...\n",
            "[nltk_data]    |   Unzipping grammars/book_grammars.zip.\n",
            "[nltk_data]    | Downloading package sample_grammars to\n",
            "[nltk_data]    |     /root/nltk_data...\n",
            "[nltk_data]    |   Unzipping grammars/sample_grammars.zip.\n",
            "[nltk_data]    | Downloading package spanish_grammars to\n",
            "[nltk_data]    |     /root/nltk_data...\n",
            "[nltk_data]    |   Unzipping grammars/spanish_grammars.zip.\n",
            "[nltk_data]    | Downloading package basque_grammars to\n",
            "[nltk_data]    |     /root/nltk_data...\n",
            "[nltk_data]    |   Unzipping grammars/basque_grammars.zip.\n",
            "[nltk_data]    | Downloading package large_grammars to\n",
            "[nltk_data]    |     /root/nltk_data...\n",
            "[nltk_data]    |   Unzipping grammars/large_grammars.zip.\n",
            "[nltk_data]    | Downloading package tagsets to /root/nltk_data...\n",
            "[nltk_data]    |   Unzipping help/tagsets.zip.\n",
            "[nltk_data]    | Downloading package snowball_data to\n",
            "[nltk_data]    |     /root/nltk_data...\n",
            "[nltk_data]    | Downloading package bllip_wsj_no_aux to\n",
            "[nltk_data]    |     /root/nltk_data...\n",
            "[nltk_data]    |   Unzipping models/bllip_wsj_no_aux.zip.\n",
            "[nltk_data]    | Downloading package word2vec_sample to\n",
            "[nltk_data]    |     /root/nltk_data...\n",
            "[nltk_data]    |   Unzipping models/word2vec_sample.zip.\n",
            "[nltk_data]    | Downloading package panlex_swadesh to\n",
            "[nltk_data]    |     /root/nltk_data...\n",
            "[nltk_data]    | Downloading package mte_teip5 to /root/nltk_data...\n",
            "[nltk_data]    |   Unzipping corpora/mte_teip5.zip.\n",
            "[nltk_data]    | Downloading package averaged_perceptron_tagger to\n",
            "[nltk_data]    |     /root/nltk_data...\n",
            "[nltk_data]    |   Unzipping taggers/averaged_perceptron_tagger.zip.\n",
            "[nltk_data]    | Downloading package averaged_perceptron_tagger_ru to\n",
            "[nltk_data]    |     /root/nltk_data...\n",
            "[nltk_data]    |   Unzipping\n",
            "[nltk_data]    |       taggers/averaged_perceptron_tagger_ru.zip.\n",
            "[nltk_data]    | Downloading package perluniprops to\n",
            "[nltk_data]    |     /root/nltk_data...\n",
            "[nltk_data]    |   Unzipping misc/perluniprops.zip.\n",
            "[nltk_data]    | Downloading package nonbreaking_prefixes to\n",
            "[nltk_data]    |     /root/nltk_data...\n",
            "[nltk_data]    |   Unzipping corpora/nonbreaking_prefixes.zip.\n",
            "[nltk_data]    | Downloading package vader_lexicon to\n",
            "[nltk_data]    |     /root/nltk_data...\n",
            "[nltk_data]    | Downloading package porter_test to /root/nltk_data...\n",
            "[nltk_data]    |   Unzipping stemmers/porter_test.zip.\n",
            "[nltk_data]    | Downloading package wmt15_eval to /root/nltk_data...\n",
            "[nltk_data]    |   Unzipping models/wmt15_eval.zip.\n",
            "[nltk_data]    | Downloading package mwa_ppdb to /root/nltk_data...\n",
            "[nltk_data]    |   Unzipping misc/mwa_ppdb.zip.\n",
            "[nltk_data]    | \n",
            "[nltk_data]  Done downloading collection all\n"
          ],
          "name": "stdout"
        }
      ]
    },
    {
      "cell_type": "code",
      "metadata": {
        "id": "NJ1iTtNi3-9z",
        "colab_type": "code",
        "colab": {
          "base_uri": "https://localhost:8080/",
          "height": 84
        },
        "outputId": "74996563-0548-494d-c719-5590a205055b"
      },
      "source": [
        "\n",
        "!gdown --id 1bzFpqbhQAaafjwOckOh2abRhrv7CVLeN"
      ],
      "execution_count": 5,
      "outputs": [
        {
          "output_type": "stream",
          "text": [
            "Downloading...\n",
            "From: https://drive.google.com/uc?id=1bzFpqbhQAaafjwOckOh2abRhrv7CVLeN\n",
            "To: /content/GoogleNews-vectors-negative300.bin\n",
            "3.64GB [00:37, 97.4MB/s]\n"
          ],
          "name": "stdout"
        }
      ]
    },
    {
      "cell_type": "markdown",
      "metadata": {
        "id": "wRw_6qHiGqP9",
        "colab_type": "text"
      },
      "source": [
        "# **Feauture Engineering**"
      ]
    },
    {
      "cell_type": "code",
      "metadata": {
        "id": "r7wC3oU0ZFjQ",
        "colab_type": "code",
        "colab": {
          "base_uri": "https://localhost:8080/",
          "height": 84
        },
        "outputId": "4dc6beee-fe3b-4f60-afc4-34e61afa8095"
      },
      "source": [
        "!gdown --id 1TvPCXiMeBnvsqdUYUzBhzHqok_W5JQwr"
      ],
      "execution_count": 6,
      "outputs": [
        {
          "output_type": "stream",
          "text": [
            "Downloading...\n",
            "From: https://drive.google.com/uc?id=1TvPCXiMeBnvsqdUYUzBhzHqok_W5JQwr\n",
            "To: /content/lab4_train.csv\n",
            "\r  0% 0.00/331k [00:00<?, ?B/s]\r100% 331k/331k [00:00<00:00, 46.6MB/s]\n"
          ],
          "name": "stdout"
        }
      ]
    },
    {
      "cell_type": "code",
      "metadata": {
        "id": "Ql3GYT2LhQTi",
        "colab_type": "code",
        "colab": {}
      },
      "source": [
        "data = pd.read_csv('lab4_train.csv')"
      ],
      "execution_count": 7,
      "outputs": []
    },
    {
      "cell_type": "code",
      "metadata": {
        "id": "h54IGT-_i097",
        "colab_type": "code",
        "colab": {}
      },
      "source": [
        "conflict_word_list = ['but','although','though','despite','spite','nevertheless','however','nonetheless','notwithstanding','contray','contrast']\n",
        "\n",
        "def lemma_filter(string_text):\n",
        "  lemma_filter_list = []\n",
        "  result = []\n",
        "  contracts = contractions.fix(string_text) #เปลี่ยนคำย่อ สมมติว่า didn't เป็น did not \n",
        "  doc = nlp(contracts)\n",
        "  lemma = [token.lemma_ for token in doc]\n",
        "  pos_sentences=nltk.pos_tag(lemma)\n",
        "  for tup in pos_sentences:\n",
        "      if tup[1].startswith(('J','N','R','V')) or tup[0] in conflict_word_list  == True  : #เอา adj noun adv ไว้\n",
        "        lemma_filter_list.append(tup[0])\n",
        "  \n",
        "  return lemma_filter_list\n",
        "\n",
        "data['tokens'] = data['text'].apply(lemma_filter)"
      ],
      "execution_count": 8,
      "outputs": []
    },
    {
      "cell_type": "code",
      "metadata": {
        "id": "vrHqs9Lc9m6d",
        "colab_type": "code",
        "colab": {
          "base_uri": "https://localhost:8080/",
          "height": 34
        },
        "outputId": "efb51a27-e0ac-4edf-b429-db8afe166541"
      },
      "source": [
        "lemma_filter(data['text'][0])"
      ],
      "execution_count": 9,
      "outputs": [
        {
          "output_type": "execute_result",
          "data": {
            "text/plain": [
              "['staff', 'be', 'so', 'horrible', '-PRON-']"
            ]
          },
          "metadata": {
            "tags": []
          },
          "execution_count": 9
        }
      ]
    },
    {
      "cell_type": "code",
      "metadata": {
        "id": "sagUvJl0jOHg",
        "colab_type": "code",
        "colab": {
          "base_uri": "https://localhost:8080/",
          "height": 70
        },
        "outputId": "458c796e-bcb2-480c-b927-d621e60e0268"
      },
      "source": [
        "model = KeyedVectors.load_word2vec_format('GoogleNews-vectors-negative300.bin', binary=True)"
      ],
      "execution_count": 10,
      "outputs": [
        {
          "output_type": "stream",
          "text": [
            "/usr/local/lib/python3.6/dist-packages/smart_open/smart_open_lib.py:254: UserWarning: This function is deprecated, use smart_open.open instead. See the migration notes for details: https://github.com/RaRe-Technologies/smart_open/blob/master/README.rst#migrating-to-the-new-open-function\n",
            "  'See the migration notes for details: %s' % _MIGRATION_NOTES_URL\n"
          ],
          "name": "stderr"
        }
      ]
    },
    {
      "cell_type": "code",
      "metadata": {
        "id": "pn0FY7WPhUG9",
        "colab_type": "code",
        "colab": {
          "base_uri": "https://localhost:8080/",
          "height": 34
        },
        "outputId": "9caef5b3-8ad3-4abf-b60a-1f4cf5fb8362"
      },
      "source": [
        "vocab_in_data = set()\n",
        "check_data_bigram = data['tokens']\n",
        "for row in check_data_bigram:\n",
        "  for bi in row:\n",
        "    vocab_in_data.add(bi)\n",
        "  \n",
        "  \n",
        "print(len(vocab_in_data))"
      ],
      "execution_count": 11,
      "outputs": [
        {
          "output_type": "stream",
          "text": [
            "3544\n"
          ],
          "name": "stdout"
        }
      ]
    },
    {
      "cell_type": "code",
      "metadata": {
        "id": "_RKI2BVYhc-n",
        "colab_type": "code",
        "colab": {}
      },
      "source": [
        "vector_dim = model.vector_size"
      ],
      "execution_count": 12,
      "outputs": []
    },
    {
      "cell_type": "code",
      "metadata": {
        "id": "6RH5RAz9hgki",
        "colab_type": "code",
        "colab": {
          "base_uri": "https://localhost:8080/",
          "height": 34
        },
        "outputId": "85a84a8b-58b8-432a-c0b2-227278402155"
      },
      "source": [
        "vector_dim"
      ],
      "execution_count": 13,
      "outputs": [
        {
          "output_type": "execute_result",
          "data": {
            "text/plain": [
              "300"
            ]
          },
          "metadata": {
            "tags": []
          },
          "execution_count": 13
        }
      ]
    },
    {
      "cell_type": "code",
      "metadata": {
        "id": "TB5MEboh_FTz",
        "colab_type": "code",
        "colab": {}
      },
      "source": [
        "max_len = 100"
      ],
      "execution_count": 14,
      "outputs": []
    },
    {
      "cell_type": "code",
      "metadata": {
        "id": "a14BR8bxjNm2",
        "colab_type": "code",
        "colab": {}
      },
      "source": [
        "vocab_size = len(vocab_in_data)  +1"
      ],
      "execution_count": 15,
      "outputs": []
    },
    {
      "cell_type": "code",
      "metadata": {
        "id": "HDtS92LSq8-y",
        "colab_type": "code",
        "colab": {
          "base_uri": "https://localhost:8080/",
          "height": 34
        },
        "outputId": "2640aec4-cf3a-4aa8-9617-ccbdd7434b08"
      },
      "source": [
        "vocab_size"
      ],
      "execution_count": 16,
      "outputs": [
        {
          "output_type": "execute_result",
          "data": {
            "text/plain": [
              "3545"
            ]
          },
          "metadata": {
            "tags": []
          },
          "execution_count": 16
        }
      ]
    },
    {
      "cell_type": "code",
      "metadata": {
        "id": "XD76fKTYq2pz",
        "colab_type": "code",
        "colab": {}
      },
      "source": [
        "word_to_index = {'PADDING':0}\n",
        "\n",
        "# make weight matrix of word embedding, vocab size + 1 (for padding)\n",
        "embedding_matrix = np.zeros((vocab_size, vector_dim), dtype=\"float32\")\n",
        "embedding_matrix[0] = np.zeros(vector_dim)\n",
        "\n",
        "for i, word in enumerate(vocab_in_data & set(model.vocab)):\n",
        "    word_to_index[word] = i+1\n",
        "    embedding_matrix[i+1] = model[word] "
      ],
      "execution_count": 17,
      "outputs": []
    },
    {
      "cell_type": "code",
      "metadata": {
        "id": "W0_LvbaSIvPH",
        "colab_type": "code",
        "colab": {}
      },
      "source": [
        "import numpy as np\n",
        "train, dev = np.split(data, [int(0.8 * len(data))])"
      ],
      "execution_count": 18,
      "outputs": []
    },
    {
      "cell_type": "code",
      "metadata": {
        "id": "o2Da3GMD-38f",
        "colab_type": "code",
        "colab": {}
      },
      "source": [
        "def w2i(tokens):\n",
        "    return [word_to_index.get(word, 0) for word in tokens[:max_len]]\n",
        "\n",
        "# apply functions & convert to np.array\n",
        "input_train = np.array(train['tokens'].apply(w2i).tolist())\n",
        "input_dev = np.array(dev['tokens'].apply(w2i).tolist())\n",
        "\n",
        " \n",
        "# input : zero padding\n",
        "train_x = pad_sequences(input_train, max_len, padding='post')\n",
        "dev_x = pad_sequences(input_dev, max_len, padding='post')"
      ],
      "execution_count": 19,
      "outputs": []
    },
    {
      "cell_type": "code",
      "metadata": {
        "id": "6v-LFwM4D30D",
        "colab_type": "code",
        "colab": {}
      },
      "source": [
        "#function for relabel\n",
        "def repolar(polarity): #relabel of polarity\n",
        "    return {'negative':0, 'positive':1, 'conflict':2, 'neutral':3}[polarity]\n",
        "def reaspect(aspect): #relabel of aspect\n",
        "    return {'service':0, 'food':1, 'anecdotes/miscellaneous':2, 'price':3,'ambience':4}[aspect]\n",
        "def index_to_label(polarity_index): #convert back to label\n",
        "    return {0: 'negative', 1: 'positive', 2: 'conflict', 3: 'neutral'}[polarity_index]\n",
        "def index_to_aspect(aspect_index): #convert back to label\n",
        "    return {0:'service', 1:'food', 2:'anecdotes/miscellaneous', 3:'price',4:'ambience'}[aspect_index]"
      ],
      "execution_count": 20,
      "outputs": []
    },
    {
      "cell_type": "code",
      "metadata": {
        "id": "2qdltau3BRKv",
        "colab_type": "code",
        "colab": {}
      },
      "source": [
        "# apply functions & convert to np.array\n",
        "label_train = np.array(train['polarity'].apply(repolar).tolist())\n",
        "label_dev = np.array(dev['polarity'].apply(repolar).tolist())\n",
        "\n",
        "aspect_train = np.array(train['aspectCategory'].apply(reaspect).tolist())\n",
        "aspect_dev = np.array(dev['aspectCategory'].apply(reaspect).tolist())\n",
        "\n",
        "# label : one-hot vector\n",
        "train_label = to_categorical(label_train, num_classes=4)\n",
        "dev_label = to_categorical(label_dev, num_classes=4)\n",
        "\n",
        "train_aspect = to_categorical(aspect_train, num_classes=5)\n",
        "dev_aspect = to_categorical(aspect_dev, num_classes=5)"
      ],
      "execution_count": 21,
      "outputs": []
    },
    {
      "cell_type": "markdown",
      "metadata": {
        "id": "OymqvkiBFzeS",
        "colab_type": "text"
      },
      "source": [
        "# **Model for polarity**"
      ]
    },
    {
      "cell_type": "code",
      "metadata": {
        "id": "adwDrn6OpcR7",
        "colab_type": "code",
        "colab": {
          "base_uri": "https://localhost:8080/",
          "height": 353
        },
        "outputId": "34aa213b-b163-4d75-cd23-537851fa5d40"
      },
      "source": [
        "# instantiation\n",
        "p_model = Sequential()\n",
        "\n",
        "# add embedding layer\n",
        "p_model.add(Embedding(input_dim=vocab_size,\n",
        "                    input_length=max_len,\n",
        "                    output_dim=vector_dim, \n",
        "                    weights=[embedding_matrix], \n",
        "                    mask_zero=True,\n",
        "                    trainable=True))\n",
        "\n",
        "# average\n",
        "p_model.add(Bidirectional(LSTM(200,recurrent_dropout = 0.2)))\n",
        "# add hidden layer\n",
        "p_model.add(Dense(250, activation='relu'))\n",
        "p_model.add(Dropout(0.20))\n",
        "p_model.add(Dense(70, activation='relu'))\n",
        "# add output layer\n",
        "p_model.add(Dense(4, activation='softmax'))\n",
        "\n",
        "# compile model\n",
        "p_model.compile(optimizer=\"rmsprop\", loss=\"categorical_crossentropy\", metrics=[\"accuracy\"])\n",
        "\n",
        "p_model.summary()"
      ],
      "execution_count": 22,
      "outputs": [
        {
          "output_type": "stream",
          "text": [
            "Model: \"sequential\"\n",
            "_________________________________________________________________\n",
            "Layer (type)                 Output Shape              Param #   \n",
            "=================================================================\n",
            "embedding (Embedding)        (None, 100, 300)          1063500   \n",
            "_________________________________________________________________\n",
            "bidirectional (Bidirectional (None, 400)               801600    \n",
            "_________________________________________________________________\n",
            "dense (Dense)                (None, 250)               100250    \n",
            "_________________________________________________________________\n",
            "dropout (Dropout)            (None, 250)               0         \n",
            "_________________________________________________________________\n",
            "dense_1 (Dense)              (None, 70)                17570     \n",
            "_________________________________________________________________\n",
            "dense_2 (Dense)              (None, 4)                 284       \n",
            "=================================================================\n",
            "Total params: 1,983,204\n",
            "Trainable params: 1,983,204\n",
            "Non-trainable params: 0\n",
            "_________________________________________________________________\n"
          ],
          "name": "stdout"
        }
      ]
    },
    {
      "cell_type": "code",
      "metadata": {
        "id": "NuDa_tANFHWL",
        "colab_type": "code",
        "colab": {
          "base_uri": "https://localhost:8080/",
          "height": 754
        },
        "outputId": "7055d04d-05fd-4085-f61a-46dd2989712c"
      },
      "source": [
        "plot_model(p_model, show_shapes=True,to_file='model.png')\n",
        "display_png(Image('model.png'))"
      ],
      "execution_count": 23,
      "outputs": [
        {
          "output_type": "display_data",
          "data": {
            "image/png": "[encoded data removed]"
          },
          "metadata": {
            "tags": []
          }
        }
      ]
    },
    {
      "cell_type": "code",
      "metadata": {
        "id": "fSZsW0kbJZB3",
        "colab_type": "code",
        "colab": {
          "base_uri": "https://localhost:8080/",
          "height": 353
        },
        "outputId": "21b26e01-8448-4d67-c0b6-1fed8c6106ac"
      },
      "source": [
        "# train\n",
        "history = p_model.fit(train_x, train_label, batch_size=128, epochs=10, validation_data=(dev_x, dev_label))"
      ],
      "execution_count": 24,
      "outputs": [
        {
          "output_type": "stream",
          "text": [
            "Epoch 1/10\n",
            "20/20 [==============================] - 33s 2s/step - loss: 1.0659 - accuracy: 0.5927 - val_loss: 0.8968 - val_accuracy: 0.6392\n",
            "Epoch 2/10\n",
            "20/20 [==============================] - 33s 2s/step - loss: 0.8090 - accuracy: 0.6823 - val_loss: 0.8046 - val_accuracy: 0.6804\n",
            "Epoch 3/10\n",
            "20/20 [==============================] - 33s 2s/step - loss: 0.6941 - accuracy: 0.7338 - val_loss: 0.7689 - val_accuracy: 0.7009\n",
            "Epoch 4/10\n",
            "20/20 [==============================] - 32s 2s/step - loss: 0.5925 - accuracy: 0.7777 - val_loss: 0.7553 - val_accuracy: 0.6994\n",
            "Epoch 5/10\n",
            "20/20 [==============================] - 32s 2s/step - loss: 0.4829 - accuracy: 0.8142 - val_loss: 0.8290 - val_accuracy: 0.6867\n",
            "Epoch 6/10\n",
            "20/20 [==============================] - 32s 2s/step - loss: 0.4012 - accuracy: 0.8475 - val_loss: 0.8845 - val_accuracy: 0.6835\n",
            "Epoch 7/10\n",
            "20/20 [==============================] - 40s 2s/step - loss: 0.3487 - accuracy: 0.8704 - val_loss: 0.9152 - val_accuracy: 0.7025\n",
            "Epoch 8/10\n",
            "20/20 [==============================] - 33s 2s/step - loss: 0.2772 - accuracy: 0.8922 - val_loss: 1.0079 - val_accuracy: 0.6851\n",
            "Epoch 9/10\n",
            "20/20 [==============================] - 32s 2s/step - loss: 0.2487 - accuracy: 0.8974 - val_loss: 1.2826 - val_accuracy: 0.6155\n",
            "Epoch 10/10\n",
            "20/20 [==============================] - 32s 2s/step - loss: 0.2206 - accuracy: 0.9109 - val_loss: 1.0449 - val_accuracy: 0.6946\n"
          ],
          "name": "stdout"
        }
      ]
    },
    {
      "cell_type": "code",
      "metadata": {
        "id": "y6Rf6YELJ3tk",
        "colab_type": "code",
        "colab": {
          "base_uri": "https://localhost:8080/",
          "height": 282
        },
        "outputId": "cff53fe3-e359-42eb-eaa4-ed8ca287d088"
      },
      "source": [
        "plt.plot(history.history['accuracy'])\n",
        "plt.plot(history.history['val_accuracy'])\n",
        "plt.ylabel('accuracy')\n",
        "plt.xlabel('epoch')\n",
        "plt.legend(['train', 'dev'], loc='best')\n",
        "plt.show()"
      ],
      "execution_count": 25,
      "outputs": [
        {
          "output_type": "display_data",
          "data": {
            "image/png": "[encoded data removed]",
            "text/plain": [
              "<Figure size 432x288 with 1 Axes>"
            ]
          },
          "metadata": {
            "tags": []
          }
        }
      ]
    },
    {
      "cell_type": "code",
      "metadata": {
        "id": "sTfluLwbn8vH",
        "colab_type": "code",
        "colab": {}
      },
      "source": [
        "polar_prediction = p_model.predict(dev_x)\n",
        "polar_prediction = [index_to_label(np.argmax(i)) for i in polar_prediction]\n"
      ],
      "execution_count": 27,
      "outputs": []
    },
    {
      "cell_type": "markdown",
      "metadata": {
        "id": "uECDdDiBGQM8",
        "colab_type": "text"
      },
      "source": [
        "# **Model for aspect**"
      ]
    },
    {
      "cell_type": "code",
      "metadata": {
        "id": "1KeWbD-l3V4E",
        "colab_type": "code",
        "colab": {
          "base_uri": "https://localhost:8080/",
          "height": 353
        },
        "outputId": "9d513112-1a21-498e-f0e8-a9dc72415f0c"
      },
      "source": [
        "#Aspect\n",
        "# instantiation\n",
        "a_model = Sequential()\n",
        "\n",
        "# add embedding layer\n",
        "a_model.add(Embedding(input_dim=vocab_size,\n",
        "                    input_length=max_len,\n",
        "                    output_dim=vector_dim, \n",
        "                    weights=[embedding_matrix], \n",
        "                    mask_zero=True,\n",
        "                    trainable=True))\n",
        "\n",
        "# average\n",
        "a_model.add(Bidirectional(LSTM(200,recurrent_dropout = 0.2)))\n",
        "\n",
        "# add hidden layer\n",
        "a_model.add(Dense(250, activation='relu'))\n",
        "a_model.add(Dropout(0.20))\n",
        "a_model.add(Dense(70, activation='relu'))\n",
        "\n",
        "\n",
        "# add output layer\n",
        "a_model.add(Dense(5, activation='softmax'))\n",
        "\n",
        "# compile model\n",
        "a_model.compile(optimizer=\"rmsprop\", loss=\"categorical_crossentropy\", metrics=[\"accuracy\"])\n",
        "\n",
        "a_model.summary()"
      ],
      "execution_count": 32,
      "outputs": [
        {
          "output_type": "stream",
          "text": [
            "Model: \"sequential_2\"\n",
            "_________________________________________________________________\n",
            "Layer (type)                 Output Shape              Param #   \n",
            "=================================================================\n",
            "embedding_2 (Embedding)      (None, 100, 300)          1063500   \n",
            "_________________________________________________________________\n",
            "bidirectional_2 (Bidirection (None, 400)               801600    \n",
            "_________________________________________________________________\n",
            "dense_6 (Dense)              (None, 250)               100250    \n",
            "_________________________________________________________________\n",
            "dropout_2 (Dropout)          (None, 250)               0         \n",
            "_________________________________________________________________\n",
            "dense_7 (Dense)              (None, 70)                17570     \n",
            "_________________________________________________________________\n",
            "dense_8 (Dense)              (None, 5)                 355       \n",
            "=================================================================\n",
            "Total params: 1,983,275\n",
            "Trainable params: 1,983,275\n",
            "Non-trainable params: 0\n",
            "_________________________________________________________________\n"
          ],
          "name": "stdout"
        }
      ]
    },
    {
      "cell_type": "code",
      "metadata": {
        "id": "YTHmcdJ93j-s",
        "colab_type": "code",
        "colab": {
          "base_uri": "https://localhost:8080/",
          "height": 754
        },
        "outputId": "a120b362-eef9-4868-8ce5-b7b51ca12536"
      },
      "source": [
        "plot_model(a_model, show_shapes=True,to_file='model.png')\n",
        "display_png(Image('model.png'))"
      ],
      "execution_count": 33,
      "outputs": [
        {
          "output_type": "display_data",
          "data": {
            "image/png": "[encoded data removed]"
          },
          "metadata": {
            "tags": []
          }
        }
      ]
    },
    {
      "cell_type": "code",
      "metadata": {
        "id": "sDaEHA6a3uOL",
        "colab_type": "code",
        "colab": {
          "base_uri": "https://localhost:8080/",
          "height": 353
        },
        "outputId": "3ddbaf03-8507-4cc7-f923-00215e70bb4d"
      },
      "source": [
        "history = a_model.fit(train_x, train_aspect, batch_size=128, epochs=10, validation_data=(dev_x, dev_aspect))"
      ],
      "execution_count": 34,
      "outputs": [
        {
          "output_type": "stream",
          "text": [
            "Epoch 1/10\n",
            "20/20 [==============================] - 32s 2s/step - loss: 1.2595 - accuracy: 0.5218 - val_loss: 1.0290 - val_accuracy: 0.6424\n",
            "Epoch 2/10\n",
            "20/20 [==============================] - 32s 2s/step - loss: 0.8767 - accuracy: 0.6763 - val_loss: 1.2680 - val_accuracy: 0.5190\n",
            "Epoch 3/10\n",
            "20/20 [==============================] - 32s 2s/step - loss: 0.7480 - accuracy: 0.7056 - val_loss: 0.8604 - val_accuracy: 0.6630\n",
            "Epoch 4/10\n",
            "20/20 [==============================] - 32s 2s/step - loss: 0.6123 - accuracy: 0.7496 - val_loss: 0.8796 - val_accuracy: 0.6851\n",
            "Epoch 5/10\n",
            "20/20 [==============================] - 31s 2s/step - loss: 0.5551 - accuracy: 0.7639 - val_loss: 0.8858 - val_accuracy: 0.6756\n",
            "Epoch 6/10\n",
            "20/20 [==============================] - 33s 2s/step - loss: 0.4993 - accuracy: 0.7710 - val_loss: 0.9072 - val_accuracy: 0.6725\n",
            "Epoch 7/10\n",
            "20/20 [==============================] - 31s 2s/step - loss: 0.4712 - accuracy: 0.7722 - val_loss: 0.9339 - val_accuracy: 0.6661\n",
            "Epoch 8/10\n",
            "20/20 [==============================] - 31s 2s/step - loss: 0.4270 - accuracy: 0.7916 - val_loss: 0.9246 - val_accuracy: 0.6835\n",
            "Epoch 9/10\n",
            "20/20 [==============================] - 31s 2s/step - loss: 0.4165 - accuracy: 0.7865 - val_loss: 0.8987 - val_accuracy: 0.6741\n",
            "Epoch 10/10\n",
            "20/20 [==============================] - 32s 2s/step - loss: 0.3919 - accuracy: 0.7991 - val_loss: 0.9809 - val_accuracy: 0.6851\n"
          ],
          "name": "stdout"
        }
      ]
    },
    {
      "cell_type": "code",
      "metadata": {
        "id": "YGLGw5rH332L",
        "colab_type": "code",
        "colab": {
          "base_uri": "https://localhost:8080/",
          "height": 282
        },
        "outputId": "471eaf56-6f9e-4265-ffc0-100eef0693c7"
      },
      "source": [
        "plt.plot(history.history['accuracy'])\n",
        "plt.plot(history.history['val_accuracy'])\n",
        "plt.ylabel('accuracy')\n",
        "plt.xlabel('epoch')\n",
        "plt.legend(['train', 'dev'], loc='best')\n",
        "plt.show()"
      ],
      "execution_count": 35,
      "outputs": [
        {
          "output_type": "display_data",
          "data": {
            "image/png": "[encoded data removed]",
            "text/plain": [
              "<Figure size 432x288 with 1 Axes>"
            ]
          },
          "metadata": {
            "tags": []
          }
        }
      ]
    },
    {
      "cell_type": "code",
      "metadata": {
        "id": "8lnnR_Si4F3I",
        "colab_type": "code",
        "colab": {}
      },
      "source": [
        "aspect_prediction = a_model.predict(dev_x)\n",
        "aspect_prediction = [index_to_aspect(np.argmax(i)) for i in aspect_prediction]"
      ],
      "execution_count": 36,
      "outputs": []
    },
    {
      "cell_type": "markdown",
      "metadata": {
        "id": "z6hPtalbTrHm",
        "colab_type": "text"
      },
      "source": [
        "#Generate file to evalute"
      ]
    },
    {
      "cell_type": "code",
      "metadata": {
        "id": "zRPG6Pluk_VE",
        "colab_type": "code",
        "colab": {
          "base_uri": "https://localhost:8080/",
          "height": 84
        },
        "outputId": "9d63231f-d806-4f4f-f15e-1b8e8c9e4116"
      },
      "source": [
        "!gdown --id 1YtAHCzeZUXGZQ9cimdkkUq4lUk3ZH-I_"
      ],
      "execution_count": 51,
      "outputs": [
        {
          "output_type": "stream",
          "text": [
            "Downloading...\n",
            "From: https://drive.google.com/uc?id=1YtAHCzeZUXGZQ9cimdkkUq4lUk3ZH-I_\n",
            "To: /content/evaluate.py\n",
            "\r  0% 0.00/7.03k [00:00<?, ?B/s]\r100% 7.03k/7.03k [00:00<00:00, 13.6MB/s]\n"
          ],
          "name": "stdout"
        }
      ]
    },
    {
      "cell_type": "code",
      "metadata": {
        "id": "EHdJOAm44RF9",
        "colab_type": "code",
        "colab": {
          "base_uri": "https://localhost:8080/",
          "height": 402
        },
        "outputId": "6420632e-551d-436d-e9a8-ba8d96ddb0d3"
      },
      "source": [
        "file = pd.DataFrame()\n",
        "file['id'] = dev['id']\n",
        "file['polarity'] = polar_prediction\n",
        "file['aspectCategory'] = aspect_prediction\n",
        "file.to_csv('pred.csv', index=None)\n",
        "file"
      ],
      "execution_count": 52,
      "outputs": [
        {
          "output_type": "execute_result",
          "data": {
            "text/html": [
              "<div>\n",
              "<style scoped>\n",
              "    .dataframe tbody tr th:only-of-type {\n",
              "        vertical-align: middle;\n",
              "    }\n",
              "\n",
              "    .dataframe tbody tr th {\n",
              "        vertical-align: top;\n",
              "    }\n",
              "\n",
              "    .dataframe thead th {\n",
              "        text-align: right;\n",
              "    }\n",
              "</style>\n",
              "<table border=\"1\" class=\"dataframe\">\n",
              "  <thead>\n",
              "    <tr style=\"text-align: right;\">\n",
              "      <th></th>\n",
              "      <th>id</th>\n",
              "      <th>polarity</th>\n",
              "      <th>aspectCategory</th>\n",
              "    </tr>\n",
              "  </thead>\n",
              "  <tbody>\n",
              "    <tr>\n",
              "      <th>2524</th>\n",
              "      <td>3235</td>\n",
              "      <td>positive</td>\n",
              "      <td>service</td>\n",
              "    </tr>\n",
              "    <tr>\n",
              "      <th>2525</th>\n",
              "      <td>3480</td>\n",
              "      <td>neutral</td>\n",
              "      <td>anecdotes/miscellaneous</td>\n",
              "    </tr>\n",
              "    <tr>\n",
              "      <th>2526</th>\n",
              "      <td>1459</td>\n",
              "      <td>positive</td>\n",
              "      <td>food</td>\n",
              "    </tr>\n",
              "    <tr>\n",
              "      <th>2527</th>\n",
              "      <td>1459</td>\n",
              "      <td>positive</td>\n",
              "      <td>food</td>\n",
              "    </tr>\n",
              "    <tr>\n",
              "      <th>2528</th>\n",
              "      <td>1597</td>\n",
              "      <td>positive</td>\n",
              "      <td>food</td>\n",
              "    </tr>\n",
              "    <tr>\n",
              "      <th>...</th>\n",
              "      <td>...</td>\n",
              "      <td>...</td>\n",
              "      <td>...</td>\n",
              "    </tr>\n",
              "    <tr>\n",
              "      <th>3151</th>\n",
              "      <td>2853</td>\n",
              "      <td>positive</td>\n",
              "      <td>anecdotes/miscellaneous</td>\n",
              "    </tr>\n",
              "    <tr>\n",
              "      <th>3152</th>\n",
              "      <td>1163</td>\n",
              "      <td>positive</td>\n",
              "      <td>service</td>\n",
              "    </tr>\n",
              "    <tr>\n",
              "      <th>3153</th>\n",
              "      <td>216</td>\n",
              "      <td>positive</td>\n",
              "      <td>anecdotes/miscellaneous</td>\n",
              "    </tr>\n",
              "    <tr>\n",
              "      <th>3154</th>\n",
              "      <td>1109</td>\n",
              "      <td>positive</td>\n",
              "      <td>food</td>\n",
              "    </tr>\n",
              "    <tr>\n",
              "      <th>3155</th>\n",
              "      <td>899</td>\n",
              "      <td>neutral</td>\n",
              "      <td>food</td>\n",
              "    </tr>\n",
              "  </tbody>\n",
              "</table>\n",
              "<p>632 rows × 3 columns</p>\n",
              "</div>"
            ],
            "text/plain": [
              "        id  polarity           aspectCategory\n",
              "2524  3235  positive                  service\n",
              "2525  3480   neutral  anecdotes/miscellaneous\n",
              "2526  1459  positive                     food\n",
              "2527  1459  positive                     food\n",
              "2528  1597  positive                     food\n",
              "...    ...       ...                      ...\n",
              "3151  2853  positive  anecdotes/miscellaneous\n",
              "3152  1163  positive                  service\n",
              "3153   216  positive  anecdotes/miscellaneous\n",
              "3154  1109  positive                     food\n",
              "3155   899   neutral                     food\n",
              "\n",
              "[632 rows x 3 columns]"
            ]
          },
          "metadata": {
            "tags": []
          },
          "execution_count": 52
        }
      ]
    },
    {
      "cell_type": "code",
      "metadata": {
        "id": "Biyy-4Sj4YVt",
        "colab_type": "code",
        "colab": {
          "base_uri": "https://localhost:8080/",
          "height": 403
        },
        "outputId": "88056089-872a-4d47-9621-dba55c93fdc7"
      },
      "source": [
        "!python3 evaluate.py lab4_train.csv pred.csv"
      ],
      "execution_count": 53,
      "outputs": [
        {
          "output_type": "stream",
          "text": [
            "=== CLASSIFICATION : ASPECT ===\n",
            "                class name  precision  recall  F1-score support\n",
            "0                     food      0.891   0.847     0.869     203\n",
            "1                    price      0.818   0.300     0.439      60\n",
            "2                  service      0.897   0.673     0.769     104\n",
            "3                 ambience      0.850   0.479     0.613      71\n",
            "4  anecdotes/miscellaneous      0.848   0.716     0.777     194\n",
            "5                MACRO AVG      0.861   0.603     0.693     632\n",
            "6                MICRO AVG      0.871   0.685     0.767     632 \n",
            "\n",
            "=== CLASSIFICATION : SENTIMENT ===\n",
            "  class name  precision  recall  F1-score support\n",
            "0   positive      0.814   0.830     0.822     306\n",
            "1   negative      0.600   0.552     0.575     125\n",
            "2    neutral      0.452   0.378     0.412      74\n",
            "3   conflict      0.125   0.042     0.062      24\n",
            "4  MACRO AVG      0.498   0.451     0.468     529\n",
            "5  MICRO AVG      0.708   0.665     0.686     529 \n",
            "\n",
            "=== CLASSIFICATION : OVERALL ===\n",
            "              precision  recall  F1-score support\n",
            "0  MICRO AVG      0.616   0.484     0.542     632 \n",
            "\n"
          ],
          "name": "stdout"
        }
      ]
    },
    {
      "cell_type": "markdown",
      "metadata": {
        "id": "oJg6XGncTjTP",
        "colab_type": "text"
      },
      "source": [
        "#Generate TEST file"
      ]
    },
    {
      "cell_type": "code",
      "metadata": {
        "id": "U22SaNi1THp0",
        "colab_type": "code",
        "colab": {
          "base_uri": "https://localhost:8080/",
          "height": 84
        },
        "outputId": "765c500b-8626-4335-bc3f-08af71f4666e"
      },
      "source": [
        "!gdown --id 1EacvwnOHfwa4FiZy2K8mFpFjmpb4Mt-t"
      ],
      "execution_count": 54,
      "outputs": [
        {
          "output_type": "stream",
          "text": [
            "Downloading...\n",
            "From: https://drive.google.com/uc?id=1EacvwnOHfwa4FiZy2K8mFpFjmpb4Mt-t\n",
            "To: /content/lab4_test.csv\n",
            "\r  0% 0.00/36.2k [00:00<?, ?B/s]\r100% 36.2k/36.2k [00:00<00:00, 13.3MB/s]\n"
          ],
          "name": "stdout"
        }
      ]
    },
    {
      "cell_type": "code",
      "metadata": {
        "id": "RDh26pSZTVTj",
        "colab_type": "code",
        "colab": {}
      },
      "source": [
        "test = pd.read_csv('lab4_test.csv')"
      ],
      "execution_count": 55,
      "outputs": []
    },
    {
      "cell_type": "code",
      "metadata": {
        "id": "sshK121QTK4E",
        "colab_type": "code",
        "colab": {}
      },
      "source": [
        "test['tokens'] = test['text'].apply(lemma_filter)"
      ],
      "execution_count": 56,
      "outputs": []
    },
    {
      "cell_type": "code",
      "metadata": {
        "id": "lqd6aw0yYzkP",
        "colab_type": "code",
        "colab": {}
      },
      "source": [
        "def w2i(tokens):\n",
        "    return [word_to_index.get(word, 0) for word in tokens[:max_len]]\n",
        "\n",
        "# apply functions & convert to np.array\n",
        "input_test = np.array(test['tokens'].apply(w2i).tolist()) \n",
        "# input : zero padding\n",
        "\n",
        "test_x = pad_sequences(input_test, max_len, padding='post')"
      ],
      "execution_count": 57,
      "outputs": []
    },
    {
      "cell_type": "code",
      "metadata": {
        "id": "57YkzHDWdPBy",
        "colab_type": "code",
        "colab": {}
      },
      "source": [
        "label_train = np.array(train['polarity'].apply(repolar).tolist())\n",
        " # label_dev = np.array(dev['polarity'].apply(repolar).tolist())\n",
        "\n",
        "aspect_train = np.array(train['aspectCategory'].apply(reaspect).tolist())\n",
        "#aspect_dev = np.array(dev['aspectCategory'].apply(reaspect).tolist())\n",
        "\n",
        "# label : one-hot vector\n",
        "train_label = to_categorical(label_train, num_classes=4)\n",
        "#dev_label = to_categorical(label_dev, num_classes=4)\n",
        "\n",
        "train_aspect = to_categorical(aspect_train, num_classes=5)\n",
        "#dev_aspect = to_categorical(aspect_dev, num_classes=5)"
      ],
      "execution_count": 58,
      "outputs": []
    },
    {
      "cell_type": "code",
      "metadata": {
        "id": "DwhXsaIxS8BE",
        "colab_type": "code",
        "colab": {}
      },
      "source": [
        "polar_p = p_model.predict(test_x)\n",
        "polar_p = [index_to_label(np.argmax(i)) for i in polar_p]"
      ],
      "execution_count": 59,
      "outputs": []
    },
    {
      "cell_type": "code",
      "metadata": {
        "id": "XGnQMpUUbfXz",
        "colab_type": "code",
        "colab": {
          "base_uri": "https://localhost:8080/",
          "height": 195
        },
        "outputId": "680c42d5-5fc7-4e39-e35e-081a31cc221a"
      },
      "source": [
        "test.head()"
      ],
      "execution_count": 60,
      "outputs": [
        {
          "output_type": "execute_result",
          "data": {
            "text/html": [
              "<div>\n",
              "<style scoped>\n",
              "    .dataframe tbody tr th:only-of-type {\n",
              "        vertical-align: middle;\n",
              "    }\n",
              "\n",
              "    .dataframe tbody tr th {\n",
              "        vertical-align: top;\n",
              "    }\n",
              "\n",
              "    .dataframe thead th {\n",
              "        text-align: right;\n",
              "    }\n",
              "</style>\n",
              "<table border=\"1\" class=\"dataframe\">\n",
              "  <thead>\n",
              "    <tr style=\"text-align: right;\">\n",
              "      <th></th>\n",
              "      <th>id</th>\n",
              "      <th>text</th>\n",
              "      <th>tokens</th>\n",
              "    </tr>\n",
              "  </thead>\n",
              "  <tbody>\n",
              "    <tr>\n",
              "      <th>0</th>\n",
              "      <td>899</td>\n",
              "      <td>Food and service was okay.</td>\n",
              "      <td>[food, service, be, okay]</td>\n",
              "    </tr>\n",
              "    <tr>\n",
              "      <th>1</th>\n",
              "      <td>1349</td>\n",
              "      <td>great for a romantic evening, or a fun evening...</td>\n",
              "      <td>[great, romantic, evening, fun, evening, friend]</td>\n",
              "    </tr>\n",
              "    <tr>\n",
              "      <th>2</th>\n",
              "      <td>934</td>\n",
              "      <td>The lamb meat was under-cooked and EXTRMELY CH...</td>\n",
              "      <td>[lamb, meat, be, cook, extrmely, CHEWY]</td>\n",
              "    </tr>\n",
              "    <tr>\n",
              "      <th>3</th>\n",
              "      <td>2199</td>\n",
              "      <td>The best pad thai i've ever had.</td>\n",
              "      <td>[good, pad, thai, -PRON-, have, ever, have]</td>\n",
              "    </tr>\n",
              "    <tr>\n",
              "      <th>4</th>\n",
              "      <td>188</td>\n",
              "      <td>Over time, the food quality has decreased subs...</td>\n",
              "      <td>[time, food, quality, have, decrease, substant...</td>\n",
              "    </tr>\n",
              "  </tbody>\n",
              "</table>\n",
              "</div>"
            ],
            "text/plain": [
              "     id  ...                                             tokens\n",
              "0   899  ...                          [food, service, be, okay]\n",
              "1  1349  ...   [great, romantic, evening, fun, evening, friend]\n",
              "2   934  ...            [lamb, meat, be, cook, extrmely, CHEWY]\n",
              "3  2199  ...        [good, pad, thai, -PRON-, have, ever, have]\n",
              "4   188  ...  [time, food, quality, have, decrease, substant...\n",
              "\n",
              "[5 rows x 3 columns]"
            ]
          },
          "metadata": {
            "tags": []
          },
          "execution_count": 60
        }
      ]
    },
    {
      "cell_type": "code",
      "metadata": {
        "id": "gLyu2KrVb4E2",
        "colab_type": "code",
        "colab": {
          "base_uri": "https://localhost:8080/",
          "height": 34
        },
        "outputId": "e332a792-59a3-4f9a-a120-a91e94861eef"
      },
      "source": [
        "len(polar_p)"
      ],
      "execution_count": 61,
      "outputs": [
        {
          "output_type": "execute_result",
          "data": {
            "text/plain": [
              "461"
            ]
          },
          "metadata": {
            "tags": []
          },
          "execution_count": 61
        }
      ]
    },
    {
      "cell_type": "code",
      "metadata": {
        "id": "4Co6AJBFb72_",
        "colab_type": "code",
        "colab": {
          "base_uri": "https://localhost:8080/",
          "height": 34
        },
        "outputId": "385971f1-4a85-4d70-c2f6-9b49e066b424"
      },
      "source": [
        "len(test)"
      ],
      "execution_count": 62,
      "outputs": [
        {
          "output_type": "execute_result",
          "data": {
            "text/plain": [
              "461"
            ]
          },
          "metadata": {
            "tags": []
          },
          "execution_count": 62
        }
      ]
    },
    {
      "cell_type": "code",
      "metadata": {
        "id": "t_2HbNGuTAik",
        "colab_type": "code",
        "colab": {}
      },
      "source": [
        "aspect_p = a_model.predict(test_x)\n",
        "aspect_p = [index_to_aspect(np.argmax(i)) for i in aspect_p]"
      ],
      "execution_count": 63,
      "outputs": []
    },
    {
      "cell_type": "code",
      "metadata": {
        "id": "FJLHn9BlW2i2",
        "colab_type": "code",
        "colab": {
          "base_uri": "https://localhost:8080/",
          "height": 402
        },
        "outputId": "f910543f-7277-4d93-ffd2-6cfbb8002689"
      },
      "source": [
        "nfile = pd.DataFrame()\n",
        "nfile['id'] = test['id']\n",
        "nfile['polarity'] = polar_p\n",
        "nfile['aspectCategory'] = aspect_p\n",
        "nfile.to_csv('test_pred.csv', index=None)\n",
        "nfile"
      ],
      "execution_count": 64,
      "outputs": [
        {
          "output_type": "execute_result",
          "data": {
            "text/html": [
              "<div>\n",
              "<style scoped>\n",
              "    .dataframe tbody tr th:only-of-type {\n",
              "        vertical-align: middle;\n",
              "    }\n",
              "\n",
              "    .dataframe tbody tr th {\n",
              "        vertical-align: top;\n",
              "    }\n",
              "\n",
              "    .dataframe thead th {\n",
              "        text-align: right;\n",
              "    }\n",
              "</style>\n",
              "<table border=\"1\" class=\"dataframe\">\n",
              "  <thead>\n",
              "    <tr style=\"text-align: right;\">\n",
              "      <th></th>\n",
              "      <th>id</th>\n",
              "      <th>polarity</th>\n",
              "      <th>aspectCategory</th>\n",
              "    </tr>\n",
              "  </thead>\n",
              "  <tbody>\n",
              "    <tr>\n",
              "      <th>0</th>\n",
              "      <td>899</td>\n",
              "      <td>neutral</td>\n",
              "      <td>food</td>\n",
              "    </tr>\n",
              "    <tr>\n",
              "      <th>1</th>\n",
              "      <td>1349</td>\n",
              "      <td>positive</td>\n",
              "      <td>anecdotes/miscellaneous</td>\n",
              "    </tr>\n",
              "    <tr>\n",
              "      <th>2</th>\n",
              "      <td>934</td>\n",
              "      <td>positive</td>\n",
              "      <td>food</td>\n",
              "    </tr>\n",
              "    <tr>\n",
              "      <th>3</th>\n",
              "      <td>2199</td>\n",
              "      <td>positive</td>\n",
              "      <td>food</td>\n",
              "    </tr>\n",
              "    <tr>\n",
              "      <th>4</th>\n",
              "      <td>188</td>\n",
              "      <td>negative</td>\n",
              "      <td>food</td>\n",
              "    </tr>\n",
              "    <tr>\n",
              "      <th>...</th>\n",
              "      <td>...</td>\n",
              "      <td>...</td>\n",
              "      <td>...</td>\n",
              "    </tr>\n",
              "    <tr>\n",
              "      <th>456</th>\n",
              "      <td>1063</td>\n",
              "      <td>positive</td>\n",
              "      <td>anecdotes/miscellaneous</td>\n",
              "    </tr>\n",
              "    <tr>\n",
              "      <th>457</th>\n",
              "      <td>777</td>\n",
              "      <td>positive</td>\n",
              "      <td>food</td>\n",
              "    </tr>\n",
              "    <tr>\n",
              "      <th>458</th>\n",
              "      <td>875</td>\n",
              "      <td>negative</td>\n",
              "      <td>anecdotes/miscellaneous</td>\n",
              "    </tr>\n",
              "    <tr>\n",
              "      <th>459</th>\n",
              "      <td>671</td>\n",
              "      <td>positive</td>\n",
              "      <td>food</td>\n",
              "    </tr>\n",
              "    <tr>\n",
              "      <th>460</th>\n",
              "      <td>617</td>\n",
              "      <td>neutral</td>\n",
              "      <td>anecdotes/miscellaneous</td>\n",
              "    </tr>\n",
              "  </tbody>\n",
              "</table>\n",
              "<p>461 rows × 3 columns</p>\n",
              "</div>"
            ],
            "text/plain": [
              "       id  polarity           aspectCategory\n",
              "0     899   neutral                     food\n",
              "1    1349  positive  anecdotes/miscellaneous\n",
              "2     934  positive                     food\n",
              "3    2199  positive                     food\n",
              "4     188  negative                     food\n",
              "..    ...       ...                      ...\n",
              "456  1063  positive  anecdotes/miscellaneous\n",
              "457   777  positive                     food\n",
              "458   875  negative  anecdotes/miscellaneous\n",
              "459   671  positive                     food\n",
              "460   617   neutral  anecdotes/miscellaneous\n",
              "\n",
              "[461 rows x 3 columns]"
            ]
          },
          "metadata": {
            "tags": []
          },
          "execution_count": 64
        }
      ]
    }
  ]
}